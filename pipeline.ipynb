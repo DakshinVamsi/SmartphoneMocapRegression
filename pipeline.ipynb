{
 "cells": [
  {
   "cell_type": "markdown",
   "metadata": {},
   "source": [
    "Below is the code to combine all trials of a single activity whilst synchronizing them with the frames data"
   ]
  },
  {
   "cell_type": "code",
   "execution_count": null,
   "metadata": {},
   "outputs": [
    {
     "name": "stdout",
     "output_type": "stream",
     "text": [
      "\n",
      "🔄 Processing action: ForwardLungeLeft\n"
     ]
    },
    {
     "name": "stderr",
     "output_type": "stream",
     "text": [
      "C:\\Users\\daksh\\AppData\\Local\\Temp\\ipykernel_17548\\2464687420.py:21: DtypeWarning: Columns (204,209,210,211,212,213,217) have mixed types. Specify dtype option on import or set low_memory=False.\n",
      "  trial_data = pd.concat([pd.read_csv(file) for file in trial_files], ignore_index=True)\n",
      "C:\\Users\\daksh\\AppData\\Local\\Temp\\ipykernel_17548\\2464687420.py:21: DtypeWarning: Columns (204,208) have mixed types. Specify dtype option on import or set low_memory=False.\n",
      "  trial_data = pd.concat([pd.read_csv(file) for file in trial_files], ignore_index=True)\n",
      "C:\\Users\\daksh\\AppData\\Local\\Temp\\ipykernel_17548\\2464687420.py:21: DtypeWarning: Columns (197,204,206,208) have mixed types. Specify dtype option on import or set low_memory=False.\n",
      "  trial_data = pd.concat([pd.read_csv(file) for file in trial_files], ignore_index=True)\n",
      "C:\\Users\\daksh\\AppData\\Local\\Temp\\ipykernel_17548\\2464687420.py:21: DtypeWarning: Columns (197,200,206) have mixed types. Specify dtype option on import or set low_memory=False.\n",
      "  trial_data = pd.concat([pd.read_csv(file) for file in trial_files], ignore_index=True)\n"
     ]
    },
    {
     "name": "stdout",
     "output_type": "stream",
     "text": [
      "✅ Saved: C:\\Users\\daksh\\OneDrive\\Desktop\\Vamsi\\Capstone Project\\Subject_Data/S4_ForwardLungeLeft_Synchronized.csv (Frames: 716)\n",
      "\n",
      "🔄 Processing action: Tadasana\n"
     ]
    },
    {
     "name": "stderr",
     "output_type": "stream",
     "text": [
      "C:\\Users\\daksh\\AppData\\Local\\Temp\\ipykernel_17548\\2464687420.py:21: DtypeWarning: Columns (204,212) have mixed types. Specify dtype option on import or set low_memory=False.\n",
      "  trial_data = pd.concat([pd.read_csv(file) for file in trial_files], ignore_index=True)\n",
      "C:\\Users\\daksh\\AppData\\Local\\Temp\\ipykernel_17548\\2464687420.py:21: DtypeWarning: Columns (204,212) have mixed types. Specify dtype option on import or set low_memory=False.\n",
      "  trial_data = pd.concat([pd.read_csv(file) for file in trial_files], ignore_index=True)\n",
      "C:\\Users\\daksh\\AppData\\Local\\Temp\\ipykernel_17548\\2464687420.py:21: DtypeWarning: Columns (200,210,211,212) have mixed types. Specify dtype option on import or set low_memory=False.\n",
      "  trial_data = pd.concat([pd.read_csv(file) for file in trial_files], ignore_index=True)\n",
      "C:\\Users\\daksh\\AppData\\Local\\Temp\\ipykernel_17548\\2464687420.py:21: DtypeWarning: Columns (212) have mixed types. Specify dtype option on import or set low_memory=False.\n",
      "  trial_data = pd.concat([pd.read_csv(file) for file in trial_files], ignore_index=True)\n",
      "C:\\Users\\daksh\\AppData\\Local\\Temp\\ipykernel_17548\\2464687420.py:21: DtypeWarning: Columns (200) have mixed types. Specify dtype option on import or set low_memory=False.\n",
      "  trial_data = pd.concat([pd.read_csv(file) for file in trial_files], ignore_index=True)\n"
     ]
    },
    {
     "name": "stdout",
     "output_type": "stream",
     "text": [
      "✅ Saved: C:\\Users\\daksh\\OneDrive\\Desktop\\Vamsi\\Capstone Project\\Subject_Data/S4_Tadasana_Synchronized.csv (Frames: 880)\n",
      "\n",
      "🔄 Processing action: Vrikshasana\n"
     ]
    },
    {
     "name": "stderr",
     "output_type": "stream",
     "text": [
      "C:\\Users\\daksh\\AppData\\Local\\Temp\\ipykernel_17548\\2464687420.py:21: DtypeWarning: Columns (200,210,213,221,226,227) have mixed types. Specify dtype option on import or set low_memory=False.\n",
      "  trial_data = pd.concat([pd.read_csv(file) for file in trial_files], ignore_index=True)\n",
      "C:\\Users\\daksh\\AppData\\Local\\Temp\\ipykernel_17548\\2464687420.py:21: DtypeWarning: Columns (197,200,204,208,209,210,211,212,213,216,217,224,225,226,227) have mixed types. Specify dtype option on import or set low_memory=False.\n",
      "  trial_data = pd.concat([pd.read_csv(file) for file in trial_files], ignore_index=True)\n",
      "C:\\Users\\daksh\\AppData\\Local\\Temp\\ipykernel_17548\\2464687420.py:21: DtypeWarning: Columns (200,208,210,211,212,213,217,221,226,227) have mixed types. Specify dtype option on import or set low_memory=False.\n",
      "  trial_data = pd.concat([pd.read_csv(file) for file in trial_files], ignore_index=True)\n",
      "C:\\Users\\daksh\\AppData\\Local\\Temp\\ipykernel_17548\\2464687420.py:21: DtypeWarning: Columns (195,197,200,204,206,208,209,210,211,212,213,216,217,220,224,225,226,227) have mixed types. Specify dtype option on import or set low_memory=False.\n",
      "  trial_data = pd.concat([pd.read_csv(file) for file in trial_files], ignore_index=True)\n",
      "C:\\Users\\daksh\\AppData\\Local\\Temp\\ipykernel_17548\\2464687420.py:21: DtypeWarning: Columns (200,208,209,210,211,212,213,216,217,221,224,225,226,227) have mixed types. Specify dtype option on import or set low_memory=False.\n",
      "  trial_data = pd.concat([pd.read_csv(file) for file in trial_files], ignore_index=True)\n"
     ]
    },
    {
     "name": "stdout",
     "output_type": "stream",
     "text": [
      "✅ Saved: C:\\Users\\daksh\\OneDrive\\Desktop\\Vamsi\\Capstone Project\\Subject_Data/S4_Vrikshasana_Synchronized.csv (Frames: 748)\n",
      "\n",
      "🔄 Processing action: Parshvakonasana\n"
     ]
    },
    {
     "name": "stderr",
     "output_type": "stream",
     "text": [
      "C:\\Users\\daksh\\AppData\\Local\\Temp\\ipykernel_17548\\2464687420.py:21: DtypeWarning: Columns (209,211,212,213,215,216,217,221,226,227) have mixed types. Specify dtype option on import or set low_memory=False.\n",
      "  trial_data = pd.concat([pd.read_csv(file) for file in trial_files], ignore_index=True)\n",
      "C:\\Users\\daksh\\AppData\\Local\\Temp\\ipykernel_17548\\2464687420.py:21: DtypeWarning: Columns (215,216,219) have mixed types. Specify dtype option on import or set low_memory=False.\n",
      "  trial_data = pd.concat([pd.read_csv(file) for file in trial_files], ignore_index=True)\n",
      "C:\\Users\\daksh\\AppData\\Local\\Temp\\ipykernel_17548\\2464687420.py:21: DtypeWarning: Columns (210,215,218,219) have mixed types. Specify dtype option on import or set low_memory=False.\n",
      "  trial_data = pd.concat([pd.read_csv(file) for file in trial_files], ignore_index=True)\n",
      "C:\\Users\\daksh\\AppData\\Local\\Temp\\ipykernel_17548\\2464687420.py:21: DtypeWarning: Columns (214,218,222) have mixed types. Specify dtype option on import or set low_memory=False.\n",
      "  trial_data = pd.concat([pd.read_csv(file) for file in trial_files], ignore_index=True)\n",
      "C:\\Users\\daksh\\AppData\\Local\\Temp\\ipykernel_17548\\2464687420.py:21: DtypeWarning: Columns (197,200,204,206,209,210,212,213,214,215,216,217,218,221,226,227) have mixed types. Specify dtype option on import or set low_memory=False.\n",
      "  trial_data = pd.concat([pd.read_csv(file) for file in trial_files], ignore_index=True)\n"
     ]
    },
    {
     "name": "stdout",
     "output_type": "stream",
     "text": [
      "✅ Saved: C:\\Users\\daksh\\OneDrive\\Desktop\\Vamsi\\Capstone Project\\Subject_Data/S4_Parshvakonasana_Synchronized.csv (Frames: 1232)\n",
      "\n",
      "🔄 Processing action: Malasana\n"
     ]
    },
    {
     "name": "stderr",
     "output_type": "stream",
     "text": [
      "C:\\Users\\daksh\\AppData\\Local\\Temp\\ipykernel_17548\\2464687420.py:21: DtypeWarning: Columns (197,204,206,208,209,210,211,212,213,214,215,216,217,218) have mixed types. Specify dtype option on import or set low_memory=False.\n",
      "  trial_data = pd.concat([pd.read_csv(file) for file in trial_files], ignore_index=True)\n",
      "C:\\Users\\daksh\\AppData\\Local\\Temp\\ipykernel_17548\\2464687420.py:21: DtypeWarning: Columns (197,206,208,209,210,211,212,213,214,216,217) have mixed types. Specify dtype option on import or set low_memory=False.\n",
      "  trial_data = pd.concat([pd.read_csv(file) for file in trial_files], ignore_index=True)\n",
      "C:\\Users\\daksh\\AppData\\Local\\Temp\\ipykernel_17548\\2464687420.py:21: DtypeWarning: Columns (197,209,210,211,213,214,216,217) have mixed types. Specify dtype option on import or set low_memory=False.\n",
      "  trial_data = pd.concat([pd.read_csv(file) for file in trial_files], ignore_index=True)\n",
      "C:\\Users\\daksh\\AppData\\Local\\Temp\\ipykernel_17548\\2464687420.py:21: DtypeWarning: Columns (197,208,209,210,211,212,213,214,215,216,217) have mixed types. Specify dtype option on import or set low_memory=False.\n",
      "  trial_data = pd.concat([pd.read_csv(file) for file in trial_files], ignore_index=True)\n"
     ]
    },
    {
     "name": "stdout",
     "output_type": "stream",
     "text": [
      "✅ Saved: C:\\Users\\daksh\\OneDrive\\Desktop\\Vamsi\\Capstone Project\\Subject_Data/S4_Malasana_Synchronized.csv (Frames: 1329)\n",
      "\n",
      "🔄 Processing action: Trikonasana\n"
     ]
    },
    {
     "name": "stderr",
     "output_type": "stream",
     "text": [
      "C:\\Users\\daksh\\AppData\\Local\\Temp\\ipykernel_17548\\2464687420.py:21: DtypeWarning: Columns (208,209,211,212,213,214,215,217,218,219,221,226,227) have mixed types. Specify dtype option on import or set low_memory=False.\n",
      "  trial_data = pd.concat([pd.read_csv(file) for file in trial_files], ignore_index=True)\n",
      "C:\\Users\\daksh\\AppData\\Local\\Temp\\ipykernel_17548\\2464687420.py:21: DtypeWarning: Columns (210,216,220,224,225) have mixed types. Specify dtype option on import or set low_memory=False.\n",
      "  trial_data = pd.concat([pd.read_csv(file) for file in trial_files], ignore_index=True)\n",
      "C:\\Users\\daksh\\AppData\\Local\\Temp\\ipykernel_17548\\2464687420.py:21: DtypeWarning: Columns (210,214,215,216,218,219) have mixed types. Specify dtype option on import or set low_memory=False.\n",
      "  trial_data = pd.concat([pd.read_csv(file) for file in trial_files], ignore_index=True)\n",
      "C:\\Users\\daksh\\AppData\\Local\\Temp\\ipykernel_17548\\2464687420.py:21: DtypeWarning: Columns (209,214,215,216,218,219) have mixed types. Specify dtype option on import or set low_memory=False.\n",
      "  trial_data = pd.concat([pd.read_csv(file) for file in trial_files], ignore_index=True)\n"
     ]
    },
    {
     "name": "stdout",
     "output_type": "stream",
     "text": [
      "✅ Saved: C:\\Users\\daksh\\OneDrive\\Desktop\\Vamsi\\Capstone Project\\Subject_Data/S4_Trikonasana_Synchronized.csv (Frames: 1255)\n",
      "\n",
      "🔄 Processing action: StepForwardRight\n"
     ]
    },
    {
     "name": "stderr",
     "output_type": "stream",
     "text": [
      "C:\\Users\\daksh\\AppData\\Local\\Temp\\ipykernel_17548\\2464687420.py:21: DtypeWarning: Columns (195,197,200,204,206,212,215) have mixed types. Specify dtype option on import or set low_memory=False.\n",
      "  trial_data = pd.concat([pd.read_csv(file) for file in trial_files], ignore_index=True)\n",
      "C:\\Users\\daksh\\AppData\\Local\\Temp\\ipykernel_17548\\2464687420.py:21: DtypeWarning: Columns (196,197,198,200,204,206) have mixed types. Specify dtype option on import or set low_memory=False.\n",
      "  trial_data = pd.concat([pd.read_csv(file) for file in trial_files], ignore_index=True)\n",
      "C:\\Users\\daksh\\AppData\\Local\\Temp\\ipykernel_17548\\2464687420.py:21: DtypeWarning: Columns (197,198,200,204,206) have mixed types. Specify dtype option on import or set low_memory=False.\n",
      "  trial_data = pd.concat([pd.read_csv(file) for file in trial_files], ignore_index=True)\n",
      "C:\\Users\\daksh\\AppData\\Local\\Temp\\ipykernel_17548\\2464687420.py:21: DtypeWarning: Columns (197,200,206,211) have mixed types. Specify dtype option on import or set low_memory=False.\n",
      "  trial_data = pd.concat([pd.read_csv(file) for file in trial_files], ignore_index=True)\n",
      "C:\\Users\\daksh\\AppData\\Local\\Temp\\ipykernel_17548\\2464687420.py:21: DtypeWarning: Columns (200,206,212) have mixed types. Specify dtype option on import or set low_memory=False.\n",
      "  trial_data = pd.concat([pd.read_csv(file) for file in trial_files], ignore_index=True)\n",
      "C:\\Users\\daksh\\AppData\\Local\\Temp\\ipykernel_17548\\2464687420.py:21: DtypeWarning: Columns (197,200,204,206,212) have mixed types. Specify dtype option on import or set low_memory=False.\n",
      "  trial_data = pd.concat([pd.read_csv(file) for file in trial_files], ignore_index=True)\n",
      "C:\\Users\\daksh\\AppData\\Local\\Temp\\ipykernel_17548\\2464687420.py:21: DtypeWarning: Columns (197,200,204,206,212) have mixed types. Specify dtype option on import or set low_memory=False.\n",
      "  trial_data = pd.concat([pd.read_csv(file) for file in trial_files], ignore_index=True)\n"
     ]
    },
    {
     "name": "stdout",
     "output_type": "stream",
     "text": [
      "✅ Saved: C:\\Users\\daksh\\OneDrive\\Desktop\\Vamsi\\Capstone Project\\Subject_Data/S4_StepForwardRight_Synchronized.csv (Frames: 1587)\n",
      "\n",
      "🔄 Processing action: ThrowBall\n",
      "✅ Saved: C:\\Users\\daksh\\OneDrive\\Desktop\\Vamsi\\Capstone Project\\Subject_Data/S4_ThrowBall_Synchronized.csv (Frames: 530)\n",
      "\n",
      "🔄 Processing action: ClimbOnStool\n"
     ]
    },
    {
     "name": "stderr",
     "output_type": "stream",
     "text": [
      "C:\\Users\\daksh\\AppData\\Local\\Temp\\ipykernel_17548\\2464687420.py:21: DtypeWarning: Columns (197,200,204,206,208,209,210,211,212,214,215,216,218,222,224,225) have mixed types. Specify dtype option on import or set low_memory=False.\n",
      "  trial_data = pd.concat([pd.read_csv(file) for file in trial_files], ignore_index=True)\n",
      "C:\\Users\\daksh\\AppData\\Local\\Temp\\ipykernel_17548\\2464687420.py:21: DtypeWarning: Columns (197,200,204,206,212,215) have mixed types. Specify dtype option on import or set low_memory=False.\n",
      "  trial_data = pd.concat([pd.read_csv(file) for file in trial_files], ignore_index=True)\n",
      "C:\\Users\\daksh\\AppData\\Local\\Temp\\ipykernel_17548\\2464687420.py:21: DtypeWarning: Columns (197,200,204,206,208,211,212,214,215,218,222) have mixed types. Specify dtype option on import or set low_memory=False.\n",
      "  trial_data = pd.concat([pd.read_csv(file) for file in trial_files], ignore_index=True)\n",
      "C:\\Users\\daksh\\AppData\\Local\\Temp\\ipykernel_17548\\2464687420.py:21: DtypeWarning: Columns (197,200,204,206,214,215,218,222) have mixed types. Specify dtype option on import or set low_memory=False.\n",
      "  trial_data = pd.concat([pd.read_csv(file) for file in trial_files], ignore_index=True)\n",
      "C:\\Users\\daksh\\AppData\\Local\\Temp\\ipykernel_17548\\2464687420.py:21: DtypeWarning: Columns (197,200,204,206,208,212,215) have mixed types. Specify dtype option on import or set low_memory=False.\n",
      "  trial_data = pd.concat([pd.read_csv(file) for file in trial_files], ignore_index=True)\n"
     ]
    },
    {
     "name": "stdout",
     "output_type": "stream",
     "text": [
      "✅ Saved: C:\\Users\\daksh\\OneDrive\\Desktop\\Vamsi\\Capstone Project\\Subject_Data/S4_ClimbOnStool_Synchronized.csv (Frames: 1310)\n",
      "\n",
      "🔄 Processing action: HandsOnWaist\n"
     ]
    },
    {
     "name": "stderr",
     "output_type": "stream",
     "text": [
      "C:\\Users\\daksh\\AppData\\Local\\Temp\\ipykernel_17548\\2464687420.py:21: DtypeWarning: Columns (204,206) have mixed types. Specify dtype option on import or set low_memory=False.\n",
      "  trial_data = pd.concat([pd.read_csv(file) for file in trial_files], ignore_index=True)\n",
      "C:\\Users\\daksh\\AppData\\Local\\Temp\\ipykernel_17548\\2464687420.py:21: DtypeWarning: Columns (200) have mixed types. Specify dtype option on import or set low_memory=False.\n",
      "  trial_data = pd.concat([pd.read_csv(file) for file in trial_files], ignore_index=True)\n",
      "C:\\Users\\daksh\\AppData\\Local\\Temp\\ipykernel_17548\\2464687420.py:21: DtypeWarning: Columns (197,200,204) have mixed types. Specify dtype option on import or set low_memory=False.\n",
      "  trial_data = pd.concat([pd.read_csv(file) for file in trial_files], ignore_index=True)\n",
      "C:\\Users\\daksh\\AppData\\Local\\Temp\\ipykernel_17548\\2464687420.py:21: DtypeWarning: Columns (197,200) have mixed types. Specify dtype option on import or set low_memory=False.\n",
      "  trial_data = pd.concat([pd.read_csv(file) for file in trial_files], ignore_index=True)\n"
     ]
    },
    {
     "name": "stdout",
     "output_type": "stream",
     "text": [
      "✅ Saved: C:\\Users\\daksh\\OneDrive\\Desktop\\Vamsi\\Capstone Project\\Subject_Data/S4_HandsOnWaist_Synchronized.csv (Frames: 659)\n",
      "\n",
      "🔄 Processing action: StepForwardLeft\n"
     ]
    },
    {
     "name": "stderr",
     "output_type": "stream",
     "text": [
      "C:\\Users\\daksh\\AppData\\Local\\Temp\\ipykernel_17548\\2464687420.py:21: DtypeWarning: Columns (208,209,211,212,215) have mixed types. Specify dtype option on import or set low_memory=False.\n",
      "  trial_data = pd.concat([pd.read_csv(file) for file in trial_files], ignore_index=True)\n",
      "C:\\Users\\daksh\\AppData\\Local\\Temp\\ipykernel_17548\\2464687420.py:21: DtypeWarning: Columns (197,208,209,212) have mixed types. Specify dtype option on import or set low_memory=False.\n",
      "  trial_data = pd.concat([pd.read_csv(file) for file in trial_files], ignore_index=True)\n",
      "C:\\Users\\daksh\\AppData\\Local\\Temp\\ipykernel_17548\\2464687420.py:21: DtypeWarning: Columns (197,198,200,204,205,206,208,209,210,211,212,213,214,215,217,218,219,222) have mixed types. Specify dtype option on import or set low_memory=False.\n",
      "  trial_data = pd.concat([pd.read_csv(file) for file in trial_files], ignore_index=True)\n",
      "C:\\Users\\daksh\\AppData\\Local\\Temp\\ipykernel_17548\\2464687420.py:21: DtypeWarning: Columns (200,208,209,210,211,212,213,214,215,216,217,218,219) have mixed types. Specify dtype option on import or set low_memory=False.\n",
      "  trial_data = pd.concat([pd.read_csv(file) for file in trial_files], ignore_index=True)\n",
      "C:\\Users\\daksh\\AppData\\Local\\Temp\\ipykernel_17548\\2464687420.py:21: DtypeWarning: Columns (200,206,208,209,211,212,215,217) have mixed types. Specify dtype option on import or set low_memory=False.\n",
      "  trial_data = pd.concat([pd.read_csv(file) for file in trial_files], ignore_index=True)\n",
      "C:\\Users\\daksh\\AppData\\Local\\Temp\\ipykernel_17548\\2464687420.py:21: DtypeWarning: Columns (197,200,204,206,208,212,215,218,219) have mixed types. Specify dtype option on import or set low_memory=False.\n",
      "  trial_data = pd.concat([pd.read_csv(file) for file in trial_files], ignore_index=True)\n",
      "C:\\Users\\daksh\\AppData\\Local\\Temp\\ipykernel_17548\\2464687420.py:21: DtypeWarning: Columns (209,211,212,219) have mixed types. Specify dtype option on import or set low_memory=False.\n",
      "  trial_data = pd.concat([pd.read_csv(file) for file in trial_files], ignore_index=True)\n",
      "C:\\Users\\daksh\\AppData\\Local\\Temp\\ipykernel_17548\\2464687420.py:21: DtypeWarning: Columns (197,204,208,209,210,211,212,213,215,216,217,219) have mixed types. Specify dtype option on import or set low_memory=False.\n",
      "  trial_data = pd.concat([pd.read_csv(file) for file in trial_files], ignore_index=True)\n",
      "C:\\Users\\daksh\\AppData\\Local\\Temp\\ipykernel_17548\\2464687420.py:21: DtypeWarning: Columns (197,211,212,213,217) have mixed types. Specify dtype option on import or set low_memory=False.\n",
      "  trial_data = pd.concat([pd.read_csv(file) for file in trial_files], ignore_index=True)\n"
     ]
    },
    {
     "name": "stdout",
     "output_type": "stream",
     "text": [
      "✅ Saved: C:\\Users\\daksh\\OneDrive\\Desktop\\Vamsi\\Capstone Project\\Subject_Data/S4_StepForwardLeft_Synchronized.csv (Frames: 1784)\n",
      "\n",
      "🔄 Processing action: StepSideRight\n",
      "✅ Saved: C:\\Users\\daksh\\OneDrive\\Desktop\\Vamsi\\Capstone Project\\Subject_Data/S4_StepSideRight_Synchronized.csv (Frames: 1030)\n",
      "\n",
      "🔄 Processing action: NormalSquat\n"
     ]
    },
    {
     "name": "stderr",
     "output_type": "stream",
     "text": [
      "C:\\Users\\daksh\\AppData\\Local\\Temp\\ipykernel_17548\\2464687420.py:21: DtypeWarning: Columns (197,200,212) have mixed types. Specify dtype option on import or set low_memory=False.\n",
      "  trial_data = pd.concat([pd.read_csv(file) for file in trial_files], ignore_index=True)\n"
     ]
    },
    {
     "name": "stdout",
     "output_type": "stream",
     "text": [
      "✅ Saved: C:\\Users\\daksh\\OneDrive\\Desktop\\Vamsi\\Capstone Project\\Subject_Data/S4_NormalSquat_Synchronized.csv (Frames: 592)\n",
      "\n",
      "🔄 Processing action: NeutralStance\n",
      "✅ Saved: C:\\Users\\daksh\\OneDrive\\Desktop\\Vamsi\\Capstone Project\\Subject_Data/S4_NeutralStance_Synchronized.csv (Frames: 590)\n",
      "\n",
      "🔄 Processing action: Virabhadrasana\n"
     ]
    },
    {
     "name": "stderr",
     "output_type": "stream",
     "text": [
      "C:\\Users\\daksh\\AppData\\Local\\Temp\\ipykernel_17548\\2464687420.py:21: DtypeWarning: Columns (209,210,211,213,216,217) have mixed types. Specify dtype option on import or set low_memory=False.\n",
      "  trial_data = pd.concat([pd.read_csv(file) for file in trial_files], ignore_index=True)\n",
      "C:\\Users\\daksh\\AppData\\Local\\Temp\\ipykernel_17548\\2464687420.py:21: DtypeWarning: Columns (210,211,213,215,216,217) have mixed types. Specify dtype option on import or set low_memory=False.\n",
      "  trial_data = pd.concat([pd.read_csv(file) for file in trial_files], ignore_index=True)\n",
      "C:\\Users\\daksh\\AppData\\Local\\Temp\\ipykernel_17548\\2464687420.py:21: DtypeWarning: Columns (209,210,211,213,214,215,216,218,219) have mixed types. Specify dtype option on import or set low_memory=False.\n",
      "  trial_data = pd.concat([pd.read_csv(file) for file in trial_files], ignore_index=True)\n",
      "C:\\Users\\daksh\\AppData\\Local\\Temp\\ipykernel_17548\\2464687420.py:21: DtypeWarning: Columns (209,210,211,212,213,216,217) have mixed types. Specify dtype option on import or set low_memory=False.\n",
      "  trial_data = pd.concat([pd.read_csv(file) for file in trial_files], ignore_index=True)\n",
      "C:\\Users\\daksh\\AppData\\Local\\Temp\\ipykernel_17548\\2464687420.py:21: DtypeWarning: Columns (209,210,211,213,215) have mixed types. Specify dtype option on import or set low_memory=False.\n",
      "  trial_data = pd.concat([pd.read_csv(file) for file in trial_files], ignore_index=True)\n"
     ]
    },
    {
     "name": "stdout",
     "output_type": "stream",
     "text": [
      "✅ Saved: C:\\Users\\daksh\\OneDrive\\Desktop\\Vamsi\\Capstone Project\\Subject_Data/S4_Virabhadrasana_Synchronized.csv (Frames: 1592)\n",
      "\n",
      "🔄 Processing action: Point1\n"
     ]
    },
    {
     "name": "stderr",
     "output_type": "stream",
     "text": [
      "C:\\Users\\daksh\\AppData\\Local\\Temp\\ipykernel_17548\\2464687420.py:21: DtypeWarning: Columns (197,204) have mixed types. Specify dtype option on import or set low_memory=False.\n",
      "  trial_data = pd.concat([pd.read_csv(file) for file in trial_files], ignore_index=True)\n",
      "C:\\Users\\daksh\\AppData\\Local\\Temp\\ipykernel_17548\\2464687420.py:21: DtypeWarning: Columns (197) have mixed types. Specify dtype option on import or set low_memory=False.\n",
      "  trial_data = pd.concat([pd.read_csv(file) for file in trial_files], ignore_index=True)\n",
      "C:\\Users\\daksh\\AppData\\Local\\Temp\\ipykernel_17548\\2464687420.py:21: DtypeWarning: Columns (212,219) have mixed types. Specify dtype option on import or set low_memory=False.\n",
      "  trial_data = pd.concat([pd.read_csv(file) for file in trial_files], ignore_index=True)\n",
      "C:\\Users\\daksh\\AppData\\Local\\Temp\\ipykernel_17548\\2464687420.py:21: DtypeWarning: Columns (206,211,212) have mixed types. Specify dtype option on import or set low_memory=False.\n",
      "  trial_data = pd.concat([pd.read_csv(file) for file in trial_files], ignore_index=True)\n",
      "C:\\Users\\daksh\\AppData\\Local\\Temp\\ipykernel_17548\\2464687420.py:21: DtypeWarning: Columns (200,206,216) have mixed types. Specify dtype option on import or set low_memory=False.\n",
      "  trial_data = pd.concat([pd.read_csv(file) for file in trial_files], ignore_index=True)\n",
      "C:\\Users\\daksh\\AppData\\Local\\Temp\\ipykernel_17548\\2464687420.py:21: DtypeWarning: Columns (197,200,204,206,211,212,213,217,221,226,227) have mixed types. Specify dtype option on import or set low_memory=False.\n",
      "  trial_data = pd.concat([pd.read_csv(file) for file in trial_files], ignore_index=True)\n",
      "C:\\Users\\daksh\\AppData\\Local\\Temp\\ipykernel_17548\\2464687420.py:21: DtypeWarning: Columns (211,212) have mixed types. Specify dtype option on import or set low_memory=False.\n",
      "  trial_data = pd.concat([pd.read_csv(file) for file in trial_files], ignore_index=True)\n",
      "C:\\Users\\daksh\\AppData\\Local\\Temp\\ipykernel_17548\\2464687420.py:21: DtypeWarning: Columns (197,211) have mixed types. Specify dtype option on import or set low_memory=False.\n",
      "  trial_data = pd.concat([pd.read_csv(file) for file in trial_files], ignore_index=True)\n",
      "C:\\Users\\daksh\\AppData\\Local\\Temp\\ipykernel_17548\\2464687420.py:21: DtypeWarning: Columns (206,208,209,210,216,224,225) have mixed types. Specify dtype option on import or set low_memory=False.\n",
      "  trial_data = pd.concat([pd.read_csv(file) for file in trial_files], ignore_index=True)\n",
      "C:\\Users\\daksh\\AppData\\Local\\Temp\\ipykernel_17548\\2464687420.py:21: DtypeWarning: Columns (197,200,204,217,221,226,227) have mixed types. Specify dtype option on import or set low_memory=False.\n",
      "  trial_data = pd.concat([pd.read_csv(file) for file in trial_files], ignore_index=True)\n",
      "C:\\Users\\daksh\\AppData\\Local\\Temp\\ipykernel_17548\\2464687420.py:21: DtypeWarning: Columns (200,206,210,211,212,216,220,224,225) have mixed types. Specify dtype option on import or set low_memory=False.\n",
      "  trial_data = pd.concat([pd.read_csv(file) for file in trial_files], ignore_index=True)\n",
      "C:\\Users\\daksh\\AppData\\Local\\Temp\\ipykernel_17548\\2464687420.py:21: DtypeWarning: Columns (204,211,212,217) have mixed types. Specify dtype option on import or set low_memory=False.\n",
      "  trial_data = pd.concat([pd.read_csv(file) for file in trial_files], ignore_index=True)\n"
     ]
    },
    {
     "name": "stdout",
     "output_type": "stream",
     "text": [
      "✅ Saved: C:\\Users\\daksh\\OneDrive\\Desktop\\Vamsi\\Capstone Project\\Subject_Data/S4_Point1_Synchronized.csv (Frames: 2623)\n",
      "\n",
      "🔄 Processing action: Dusting\n"
     ]
    },
    {
     "name": "stderr",
     "output_type": "stream",
     "text": [
      "C:\\Users\\daksh\\AppData\\Local\\Temp\\ipykernel_17548\\2464687420.py:21: DtypeWarning: Columns (204,209,211,212,215,217,219) have mixed types. Specify dtype option on import or set low_memory=False.\n",
      "  trial_data = pd.concat([pd.read_csv(file) for file in trial_files], ignore_index=True)\n",
      "C:\\Users\\daksh\\AppData\\Local\\Temp\\ipykernel_17548\\2464687420.py:21: DtypeWarning: Columns (212) have mixed types. Specify dtype option on import or set low_memory=False.\n",
      "  trial_data = pd.concat([pd.read_csv(file) for file in trial_files], ignore_index=True)\n",
      "C:\\Users\\daksh\\AppData\\Local\\Temp\\ipykernel_17548\\2464687420.py:21: DtypeWarning: Columns (209,213,219) have mixed types. Specify dtype option on import or set low_memory=False.\n",
      "  trial_data = pd.concat([pd.read_csv(file) for file in trial_files], ignore_index=True)\n",
      "C:\\Users\\daksh\\AppData\\Local\\Temp\\ipykernel_17548\\2464687420.py:21: DtypeWarning: Columns (211) have mixed types. Specify dtype option on import or set low_memory=False.\n",
      "  trial_data = pd.concat([pd.read_csv(file) for file in trial_files], ignore_index=True)\n",
      "C:\\Users\\daksh\\AppData\\Local\\Temp\\ipykernel_17548\\2464687420.py:21: DtypeWarning: Columns (211) have mixed types. Specify dtype option on import or set low_memory=False.\n",
      "  trial_data = pd.concat([pd.read_csv(file) for file in trial_files], ignore_index=True)\n"
     ]
    },
    {
     "name": "stdout",
     "output_type": "stream",
     "text": [
      "✅ Saved: C:\\Users\\daksh\\OneDrive\\Desktop\\Vamsi\\Capstone Project\\Subject_Data/S4_Dusting_Synchronized.csv (Frames: 1269)\n",
      "\n",
      "🔄 Processing action: Utkatakonasana\n"
     ]
    },
    {
     "name": "stderr",
     "output_type": "stream",
     "text": [
      "C:\\Users\\daksh\\AppData\\Local\\Temp\\ipykernel_17548\\2464687420.py:21: DtypeWarning: Columns (197,206,209,210,213,214,215,216,217,218,219) have mixed types. Specify dtype option on import or set low_memory=False.\n",
      "  trial_data = pd.concat([pd.read_csv(file) for file in trial_files], ignore_index=True)\n",
      "C:\\Users\\daksh\\AppData\\Local\\Temp\\ipykernel_17548\\2464687420.py:21: DtypeWarning: Columns (209,210,211,213,216,217,219) have mixed types. Specify dtype option on import or set low_memory=False.\n",
      "  trial_data = pd.concat([pd.read_csv(file) for file in trial_files], ignore_index=True)\n",
      "C:\\Users\\daksh\\AppData\\Local\\Temp\\ipykernel_17548\\2464687420.py:21: DtypeWarning: Columns (209,210,211,213,214,215,216,217,224) have mixed types. Specify dtype option on import or set low_memory=False.\n",
      "  trial_data = pd.concat([pd.read_csv(file) for file in trial_files], ignore_index=True)\n",
      "C:\\Users\\daksh\\AppData\\Local\\Temp\\ipykernel_17548\\2464687420.py:21: DtypeWarning: Columns (197,206,208,209,210,211,212,213,216,217) have mixed types. Specify dtype option on import or set low_memory=False.\n",
      "  trial_data = pd.concat([pd.read_csv(file) for file in trial_files], ignore_index=True)\n",
      "C:\\Users\\daksh\\AppData\\Local\\Temp\\ipykernel_17548\\2464687420.py:21: DtypeWarning: Columns (197,206,209,210,211,213,214,215,216,217,219) have mixed types. Specify dtype option on import or set low_memory=False.\n",
      "  trial_data = pd.concat([pd.read_csv(file) for file in trial_files], ignore_index=True)\n"
     ]
    },
    {
     "name": "stdout",
     "output_type": "stream",
     "text": [
      "✅ Saved: C:\\Users\\daksh\\OneDrive\\Desktop\\Vamsi\\Capstone Project\\Subject_Data/S4_Utkatakonasana_Synchronized.csv (Frames: 1620)\n",
      "\n",
      "🔄 Processing action: ForwardLungeRight\n"
     ]
    },
    {
     "name": "stderr",
     "output_type": "stream",
     "text": [
      "C:\\Users\\daksh\\AppData\\Local\\Temp\\ipykernel_17548\\2464687420.py:21: DtypeWarning: Columns (204) have mixed types. Specify dtype option on import or set low_memory=False.\n",
      "  trial_data = pd.concat([pd.read_csv(file) for file in trial_files], ignore_index=True)\n",
      "C:\\Users\\daksh\\AppData\\Local\\Temp\\ipykernel_17548\\2464687420.py:21: DtypeWarning: Columns (196,200,204,206,208) have mixed types. Specify dtype option on import or set low_memory=False.\n",
      "  trial_data = pd.concat([pd.read_csv(file) for file in trial_files], ignore_index=True)\n",
      "C:\\Users\\daksh\\AppData\\Local\\Temp\\ipykernel_17548\\2464687420.py:21: DtypeWarning: Columns (197,200,204,206,208,211,212,217) have mixed types. Specify dtype option on import or set low_memory=False.\n",
      "  trial_data = pd.concat([pd.read_csv(file) for file in trial_files], ignore_index=True)\n",
      "C:\\Users\\daksh\\AppData\\Local\\Temp\\ipykernel_17548\\2464687420.py:21: DtypeWarning: Columns (200,204,206,208) have mixed types. Specify dtype option on import or set low_memory=False.\n",
      "  trial_data = pd.concat([pd.read_csv(file) for file in trial_files], ignore_index=True)\n"
     ]
    },
    {
     "name": "stdout",
     "output_type": "stream",
     "text": [
      "✅ Saved: C:\\Users\\daksh\\OneDrive\\Desktop\\Vamsi\\Capstone Project\\Subject_Data/S4_ForwardLungeRight_Synchronized.csv (Frames: 722)\n",
      "\n",
      "🔄 Processing action: Point3\n"
     ]
    },
    {
     "name": "stderr",
     "output_type": "stream",
     "text": [
      "C:\\Users\\daksh\\AppData\\Local\\Temp\\ipykernel_17548\\2464687420.py:21: DtypeWarning: Columns (204,206,211,212,213,219) have mixed types. Specify dtype option on import or set low_memory=False.\n",
      "  trial_data = pd.concat([pd.read_csv(file) for file in trial_files], ignore_index=True)\n",
      "C:\\Users\\daksh\\AppData\\Local\\Temp\\ipykernel_17548\\2464687420.py:21: DtypeWarning: Columns (204,208,211) have mixed types. Specify dtype option on import or set low_memory=False.\n",
      "  trial_data = pd.concat([pd.read_csv(file) for file in trial_files], ignore_index=True)\n",
      "C:\\Users\\daksh\\AppData\\Local\\Temp\\ipykernel_17548\\2464687420.py:21: DtypeWarning: Columns (197,204,208,211,212,213,217,221,226,227) have mixed types. Specify dtype option on import or set low_memory=False.\n",
      "  trial_data = pd.concat([pd.read_csv(file) for file in trial_files], ignore_index=True)\n",
      "C:\\Users\\daksh\\AppData\\Local\\Temp\\ipykernel_17548\\2464687420.py:21: DtypeWarning: Columns (197,200,204,206,213,221,226,227) have mixed types. Specify dtype option on import or set low_memory=False.\n",
      "  trial_data = pd.concat([pd.read_csv(file) for file in trial_files], ignore_index=True)\n",
      "C:\\Users\\daksh\\AppData\\Local\\Temp\\ipykernel_17548\\2464687420.py:21: DtypeWarning: Columns (206,208) have mixed types. Specify dtype option on import or set low_memory=False.\n",
      "  trial_data = pd.concat([pd.read_csv(file) for file in trial_files], ignore_index=True)\n",
      "C:\\Users\\daksh\\AppData\\Local\\Temp\\ipykernel_17548\\2464687420.py:21: DtypeWarning: Columns (206,210,211,212,216,224,225) have mixed types. Specify dtype option on import or set low_memory=False.\n",
      "  trial_data = pd.concat([pd.read_csv(file) for file in trial_files], ignore_index=True)\n",
      "C:\\Users\\daksh\\AppData\\Local\\Temp\\ipykernel_17548\\2464687420.py:21: DtypeWarning: Columns (200,208,211,212,217) have mixed types. Specify dtype option on import or set low_memory=False.\n",
      "  trial_data = pd.concat([pd.read_csv(file) for file in trial_files], ignore_index=True)\n",
      "C:\\Users\\daksh\\AppData\\Local\\Temp\\ipykernel_17548\\2464687420.py:21: DtypeWarning: Columns (197,199,200,204,208) have mixed types. Specify dtype option on import or set low_memory=False.\n",
      "  trial_data = pd.concat([pd.read_csv(file) for file in trial_files], ignore_index=True)\n",
      "C:\\Users\\daksh\\AppData\\Local\\Temp\\ipykernel_17548\\2464687420.py:21: DtypeWarning: Columns (195,197,204,208,211,212,213,217) have mixed types. Specify dtype option on import or set low_memory=False.\n",
      "  trial_data = pd.concat([pd.read_csv(file) for file in trial_files], ignore_index=True)\n",
      "C:\\Users\\daksh\\AppData\\Local\\Temp\\ipykernel_17548\\2464687420.py:21: DtypeWarning: Columns (204) have mixed types. Specify dtype option on import or set low_memory=False.\n",
      "  trial_data = pd.concat([pd.read_csv(file) for file in trial_files], ignore_index=True)\n",
      "C:\\Users\\daksh\\AppData\\Local\\Temp\\ipykernel_17548\\2464687420.py:21: DtypeWarning: Columns (206,209,210,211,216,224,225) have mixed types. Specify dtype option on import or set low_memory=False.\n",
      "  trial_data = pd.concat([pd.read_csv(file) for file in trial_files], ignore_index=True)\n",
      "C:\\Users\\daksh\\AppData\\Local\\Temp\\ipykernel_17548\\2464687420.py:21: DtypeWarning: Columns (204,212,213,217,226,227) have mixed types. Specify dtype option on import or set low_memory=False.\n",
      "  trial_data = pd.concat([pd.read_csv(file) for file in trial_files], ignore_index=True)\n",
      "C:\\Users\\daksh\\AppData\\Local\\Temp\\ipykernel_17548\\2464687420.py:21: DtypeWarning: Columns (204,206,208,209,211,216) have mixed types. Specify dtype option on import or set low_memory=False.\n",
      "  trial_data = pd.concat([pd.read_csv(file) for file in trial_files], ignore_index=True)\n",
      "C:\\Users\\daksh\\AppData\\Local\\Temp\\ipykernel_17548\\2464687420.py:21: DtypeWarning: Columns (204,206,208,211) have mixed types. Specify dtype option on import or set low_memory=False.\n",
      "  trial_data = pd.concat([pd.read_csv(file) for file in trial_files], ignore_index=True)\n",
      "C:\\Users\\daksh\\AppData\\Local\\Temp\\ipykernel_17548\\2464687420.py:21: DtypeWarning: Columns (200,209,210,216,220,224,225) have mixed types. Specify dtype option on import or set low_memory=False.\n",
      "  trial_data = pd.concat([pd.read_csv(file) for file in trial_files], ignore_index=True)\n",
      "C:\\Users\\daksh\\AppData\\Local\\Temp\\ipykernel_17548\\2464687420.py:21: DtypeWarning: Columns (208,209,210,211,216,224,225) have mixed types. Specify dtype option on import or set low_memory=False.\n",
      "  trial_data = pd.concat([pd.read_csv(file) for file in trial_files], ignore_index=True)\n"
     ]
    },
    {
     "name": "stdout",
     "output_type": "stream",
     "text": [
      "✅ Saved: C:\\Users\\daksh\\OneDrive\\Desktop\\Vamsi\\Capstone Project\\Subject_Data/S4_Point3_Synchronized.csv (Frames: 2875)\n",
      "\n",
      "🔄 Processing action: SideLunge\n"
     ]
    },
    {
     "name": "stderr",
     "output_type": "stream",
     "text": [
      "C:\\Users\\daksh\\AppData\\Local\\Temp\\ipykernel_17548\\2464687420.py:21: DtypeWarning: Columns (197,204,206,208) have mixed types. Specify dtype option on import or set low_memory=False.\n",
      "  trial_data = pd.concat([pd.read_csv(file) for file in trial_files], ignore_index=True)\n",
      "C:\\Users\\daksh\\AppData\\Local\\Temp\\ipykernel_17548\\2464687420.py:21: DtypeWarning: Columns (206,211) have mixed types. Specify dtype option on import or set low_memory=False.\n",
      "  trial_data = pd.concat([pd.read_csv(file) for file in trial_files], ignore_index=True)\n",
      "C:\\Users\\daksh\\AppData\\Local\\Temp\\ipykernel_17548\\2464687420.py:21: DtypeWarning: Columns (200,206,208) have mixed types. Specify dtype option on import or set low_memory=False.\n",
      "  trial_data = pd.concat([pd.read_csv(file) for file in trial_files], ignore_index=True)\n",
      "C:\\Users\\daksh\\AppData\\Local\\Temp\\ipykernel_17548\\2464687420.py:21: DtypeWarning: Columns (197,209,210,211,212,215,216,217,218) have mixed types. Specify dtype option on import or set low_memory=False.\n",
      "  trial_data = pd.concat([pd.read_csv(file) for file in trial_files], ignore_index=True)\n"
     ]
    },
    {
     "name": "stdout",
     "output_type": "stream",
     "text": [
      "✅ Saved: C:\\Users\\daksh\\OneDrive\\Desktop\\Vamsi\\Capstone Project\\Subject_Data/S4_SideLunge_Synchronized.csv (Frames: 1243)\n",
      "\n",
      "🔄 Processing action: Point2\n"
     ]
    },
    {
     "name": "stderr",
     "output_type": "stream",
     "text": [
      "C:\\Users\\daksh\\AppData\\Local\\Temp\\ipykernel_17548\\2464687420.py:21: DtypeWarning: Columns (206,209,211) have mixed types. Specify dtype option on import or set low_memory=False.\n",
      "  trial_data = pd.concat([pd.read_csv(file) for file in trial_files], ignore_index=True)\n",
      "C:\\Users\\daksh\\AppData\\Local\\Temp\\ipykernel_17548\\2464687420.py:21: DtypeWarning: Columns (200,206,209,210) have mixed types. Specify dtype option on import or set low_memory=False.\n",
      "  trial_data = pd.concat([pd.read_csv(file) for file in trial_files], ignore_index=True)\n",
      "C:\\Users\\daksh\\AppData\\Local\\Temp\\ipykernel_17548\\2464687420.py:21: DtypeWarning: Columns (209,210,211,212,213,216,217,220,221,225,226,227) have mixed types. Specify dtype option on import or set low_memory=False.\n",
      "  trial_data = pd.concat([pd.read_csv(file) for file in trial_files], ignore_index=True)\n",
      "C:\\Users\\daksh\\AppData\\Local\\Temp\\ipykernel_17548\\2464687420.py:21: DtypeWarning: Columns (197,204,206,208,210,211) have mixed types. Specify dtype option on import or set low_memory=False.\n",
      "  trial_data = pd.concat([pd.read_csv(file) for file in trial_files], ignore_index=True)\n",
      "C:\\Users\\daksh\\AppData\\Local\\Temp\\ipykernel_17548\\2464687420.py:21: DtypeWarning: Columns (204,211,212) have mixed types. Specify dtype option on import or set low_memory=False.\n",
      "  trial_data = pd.concat([pd.read_csv(file) for file in trial_files], ignore_index=True)\n",
      "C:\\Users\\daksh\\AppData\\Local\\Temp\\ipykernel_17548\\2464687420.py:21: DtypeWarning: Columns (204,208,209,210,211,216,224,225) have mixed types. Specify dtype option on import or set low_memory=False.\n",
      "  trial_data = pd.concat([pd.read_csv(file) for file in trial_files], ignore_index=True)\n",
      "C:\\Users\\daksh\\AppData\\Local\\Temp\\ipykernel_17548\\2464687420.py:21: DtypeWarning: Columns (204) have mixed types. Specify dtype option on import or set low_memory=False.\n",
      "  trial_data = pd.concat([pd.read_csv(file) for file in trial_files], ignore_index=True)\n",
      "C:\\Users\\daksh\\AppData\\Local\\Temp\\ipykernel_17548\\2464687420.py:21: DtypeWarning: Columns (206,209,212) have mixed types. Specify dtype option on import or set low_memory=False.\n",
      "  trial_data = pd.concat([pd.read_csv(file) for file in trial_files], ignore_index=True)\n",
      "C:\\Users\\daksh\\AppData\\Local\\Temp\\ipykernel_17548\\2464687420.py:21: DtypeWarning: Columns (204,206,208,211,213,217) have mixed types. Specify dtype option on import or set low_memory=False.\n",
      "  trial_data = pd.concat([pd.read_csv(file) for file in trial_files], ignore_index=True)\n",
      "C:\\Users\\daksh\\AppData\\Local\\Temp\\ipykernel_17548\\2464687420.py:21: DtypeWarning: Columns (208,211,212) have mixed types. Specify dtype option on import or set low_memory=False.\n",
      "  trial_data = pd.concat([pd.read_csv(file) for file in trial_files], ignore_index=True)\n",
      "C:\\Users\\daksh\\AppData\\Local\\Temp\\ipykernel_17548\\2464687420.py:21: DtypeWarning: Columns (206,208,211,212) have mixed types. Specify dtype option on import or set low_memory=False.\n",
      "  trial_data = pd.concat([pd.read_csv(file) for file in trial_files], ignore_index=True)\n",
      "C:\\Users\\daksh\\AppData\\Local\\Temp\\ipykernel_17548\\2464687420.py:21: DtypeWarning: Columns (197,204,208,211,212,213,217,221,226,227) have mixed types. Specify dtype option on import or set low_memory=False.\n",
      "  trial_data = pd.concat([pd.read_csv(file) for file in trial_files], ignore_index=True)\n",
      "C:\\Users\\daksh\\AppData\\Local\\Temp\\ipykernel_17548\\2464687420.py:21: DtypeWarning: Columns (206,208) have mixed types. Specify dtype option on import or set low_memory=False.\n",
      "  trial_data = pd.concat([pd.read_csv(file) for file in trial_files], ignore_index=True)\n",
      "C:\\Users\\daksh\\AppData\\Local\\Temp\\ipykernel_17548\\2464687420.py:21: DtypeWarning: Columns (206,209,212) have mixed types. Specify dtype option on import or set low_memory=False.\n",
      "  trial_data = pd.concat([pd.read_csv(file) for file in trial_files], ignore_index=True)\n",
      "C:\\Users\\daksh\\AppData\\Local\\Temp\\ipykernel_17548\\2464687420.py:21: DtypeWarning: Columns (208,211,212,217) have mixed types. Specify dtype option on import or set low_memory=False.\n",
      "  trial_data = pd.concat([pd.read_csv(file) for file in trial_files], ignore_index=True)\n"
     ]
    },
    {
     "name": "stdout",
     "output_type": "stream",
     "text": [
      "✅ Saved: C:\\Users\\daksh\\OneDrive\\Desktop\\Vamsi\\Capstone Project\\Subject_Data/S4_Point2_Synchronized.csv (Frames: 2967)\n",
      "\n",
      "🔄 Processing action: ShortJump\n",
      "✅ Saved: C:\\Users\\daksh\\OneDrive\\Desktop\\Vamsi\\Capstone Project\\Subject_Data/S4_ShortJump_Synchronized.csv (Frames: 517)\n",
      "\n",
      "🔄 Processing action: Point4\n"
     ]
    },
    {
     "name": "stderr",
     "output_type": "stream",
     "text": [
      "C:\\Users\\daksh\\AppData\\Local\\Temp\\ipykernel_17548\\2464687420.py:21: DtypeWarning: Columns (200,209,210,211,212,216,220,224,225) have mixed types. Specify dtype option on import or set low_memory=False.\n",
      "  trial_data = pd.concat([pd.read_csv(file) for file in trial_files], ignore_index=True)\n",
      "C:\\Users\\daksh\\AppData\\Local\\Temp\\ipykernel_17548\\2464687420.py:21: DtypeWarning: Columns (200,208,221,226,227) have mixed types. Specify dtype option on import or set low_memory=False.\n",
      "  trial_data = pd.concat([pd.read_csv(file) for file in trial_files], ignore_index=True)\n",
      "C:\\Users\\daksh\\AppData\\Local\\Temp\\ipykernel_17548\\2464687420.py:21: DtypeWarning: Columns (200,206,208,211) have mixed types. Specify dtype option on import or set low_memory=False.\n",
      "  trial_data = pd.concat([pd.read_csv(file) for file in trial_files], ignore_index=True)\n",
      "C:\\Users\\daksh\\AppData\\Local\\Temp\\ipykernel_17548\\2464687420.py:21: DtypeWarning: Columns (200,208) have mixed types. Specify dtype option on import or set low_memory=False.\n",
      "  trial_data = pd.concat([pd.read_csv(file) for file in trial_files], ignore_index=True)\n",
      "C:\\Users\\daksh\\AppData\\Local\\Temp\\ipykernel_17548\\2464687420.py:21: DtypeWarning: Columns (200,206) have mixed types. Specify dtype option on import or set low_memory=False.\n",
      "  trial_data = pd.concat([pd.read_csv(file) for file in trial_files], ignore_index=True)\n",
      "C:\\Users\\daksh\\AppData\\Local\\Temp\\ipykernel_17548\\2464687420.py:21: DtypeWarning: Columns (206,211) have mixed types. Specify dtype option on import or set low_memory=False.\n",
      "  trial_data = pd.concat([pd.read_csv(file) for file in trial_files], ignore_index=True)\n",
      "C:\\Users\\daksh\\AppData\\Local\\Temp\\ipykernel_17548\\2464687420.py:21: DtypeWarning: Columns (200,204) have mixed types. Specify dtype option on import or set low_memory=False.\n",
      "  trial_data = pd.concat([pd.read_csv(file) for file in trial_files], ignore_index=True)\n",
      "C:\\Users\\daksh\\AppData\\Local\\Temp\\ipykernel_17548\\2464687420.py:21: DtypeWarning: Columns (197,198,200,204,206,208,209,210,211,216,224,225) have mixed types. Specify dtype option on import or set low_memory=False.\n",
      "  trial_data = pd.concat([pd.read_csv(file) for file in trial_files], ignore_index=True)\n",
      "C:\\Users\\daksh\\AppData\\Local\\Temp\\ipykernel_17548\\2464687420.py:21: DtypeWarning: Columns (197,204,221) have mixed types. Specify dtype option on import or set low_memory=False.\n",
      "  trial_data = pd.concat([pd.read_csv(file) for file in trial_files], ignore_index=True)\n",
      "C:\\Users\\daksh\\AppData\\Local\\Temp\\ipykernel_17548\\2464687420.py:21: DtypeWarning: Columns (206,208) have mixed types. Specify dtype option on import or set low_memory=False.\n",
      "  trial_data = pd.concat([pd.read_csv(file) for file in trial_files], ignore_index=True)\n",
      "C:\\Users\\daksh\\AppData\\Local\\Temp\\ipykernel_17548\\2464687420.py:21: DtypeWarning: Columns (200,206,209,210,211,216,220,224,225) have mixed types. Specify dtype option on import or set low_memory=False.\n",
      "  trial_data = pd.concat([pd.read_csv(file) for file in trial_files], ignore_index=True)\n",
      "C:\\Users\\daksh\\AppData\\Local\\Temp\\ipykernel_17548\\2464687420.py:21: DtypeWarning: Columns (200,206,208,221,226,227) have mixed types. Specify dtype option on import or set low_memory=False.\n",
      "  trial_data = pd.concat([pd.read_csv(file) for file in trial_files], ignore_index=True)\n",
      "C:\\Users\\daksh\\AppData\\Local\\Temp\\ipykernel_17548\\2464687420.py:21: DtypeWarning: Columns (197,200,204,206,213,217) have mixed types. Specify dtype option on import or set low_memory=False.\n",
      "  trial_data = pd.concat([pd.read_csv(file) for file in trial_files], ignore_index=True)\n",
      "C:\\Users\\daksh\\AppData\\Local\\Temp\\ipykernel_17548\\2464687420.py:21: DtypeWarning: Columns (208) have mixed types. Specify dtype option on import or set low_memory=False.\n",
      "  trial_data = pd.concat([pd.read_csv(file) for file in trial_files], ignore_index=True)\n",
      "C:\\Users\\daksh\\AppData\\Local\\Temp\\ipykernel_17548\\2464687420.py:21: DtypeWarning: Columns (200,206,212) have mixed types. Specify dtype option on import or set low_memory=False.\n",
      "  trial_data = pd.concat([pd.read_csv(file) for file in trial_files], ignore_index=True)\n",
      "C:\\Users\\daksh\\AppData\\Local\\Temp\\ipykernel_17548\\2464687420.py:21: DtypeWarning: Columns (197,200,204,206,208,209,210,211,216,224,225) have mixed types. Specify dtype option on import or set low_memory=False.\n",
      "  trial_data = pd.concat([pd.read_csv(file) for file in trial_files], ignore_index=True)\n"
     ]
    },
    {
     "name": "stdout",
     "output_type": "stream",
     "text": [
      "✅ Saved: C:\\Users\\daksh\\OneDrive\\Desktop\\Vamsi\\Capstone Project\\Subject_Data/S4_Point4_Synchronized.csv (Frames: 2984)\n",
      "\n",
      "🔄 Processing action: PickObject\n"
     ]
    },
    {
     "name": "stderr",
     "output_type": "stream",
     "text": [
      "C:\\Users\\daksh\\AppData\\Local\\Temp\\ipykernel_17548\\2464687420.py:21: DtypeWarning: Columns (197,200,204,206,209,210,211,212,213,216,220,224,225) have mixed types. Specify dtype option on import or set low_memory=False.\n",
      "  trial_data = pd.concat([pd.read_csv(file) for file in trial_files], ignore_index=True)\n",
      "C:\\Users\\daksh\\AppData\\Local\\Temp\\ipykernel_17548\\2464687420.py:21: DtypeWarning: Columns (197,200,204,206,209,210,213,216,217,224,225,226,227) have mixed types. Specify dtype option on import or set low_memory=False.\n",
      "  trial_data = pd.concat([pd.read_csv(file) for file in trial_files], ignore_index=True)\n",
      "C:\\Users\\daksh\\AppData\\Local\\Temp\\ipykernel_17548\\2464687420.py:21: DtypeWarning: Columns (197,200,204,206,209,210,211,212,213,216,217,224,225,227) have mixed types. Specify dtype option on import or set low_memory=False.\n",
      "  trial_data = pd.concat([pd.read_csv(file) for file in trial_files], ignore_index=True)\n",
      "C:\\Users\\daksh\\AppData\\Local\\Temp\\ipykernel_17548\\2464687420.py:21: DtypeWarning: Columns (197,200,202,204,206,208,209,210,211,212,213,216,217,220,224,225,226,227) have mixed types. Specify dtype option on import or set low_memory=False.\n",
      "  trial_data = pd.concat([pd.read_csv(file) for file in trial_files], ignore_index=True)\n",
      "C:\\Users\\daksh\\AppData\\Local\\Temp\\ipykernel_17548\\2464687420.py:21: DtypeWarning: Columns (195,197,200,204,206,208,209,210,211,212,213,216,217,225,226,227) have mixed types. Specify dtype option on import or set low_memory=False.\n",
      "  trial_data = pd.concat([pd.read_csv(file) for file in trial_files], ignore_index=True)\n",
      "C:\\Users\\daksh\\AppData\\Local\\Temp\\ipykernel_17548\\2464687420.py:21: DtypeWarning: Columns (197,200,204,206,209,210,211,212,213,215,216,217,220,221,224,225,226,227) have mixed types. Specify dtype option on import or set low_memory=False.\n",
      "  trial_data = pd.concat([pd.read_csv(file) for file in trial_files], ignore_index=True)\n"
     ]
    },
    {
     "name": "stdout",
     "output_type": "stream",
     "text": [
      "✅ Saved: C:\\Users\\daksh\\OneDrive\\Desktop\\Vamsi\\Capstone Project\\Subject_Data/S4_PickObject_Synchronized.csv (Frames: 1776)\n",
      "\n",
      "🔄 Processing action: ReachGraspEat\n"
     ]
    },
    {
     "name": "stderr",
     "output_type": "stream",
     "text": [
      "C:\\Users\\daksh\\AppData\\Local\\Temp\\ipykernel_17548\\2464687420.py:21: DtypeWarning: Columns (204,206,211,212) have mixed types. Specify dtype option on import or set low_memory=False.\n",
      "  trial_data = pd.concat([pd.read_csv(file) for file in trial_files], ignore_index=True)\n",
      "C:\\Users\\daksh\\AppData\\Local\\Temp\\ipykernel_17548\\2464687420.py:21: DtypeWarning: Columns (197,204,206,213,214,216,217,224,225,226,227) have mixed types. Specify dtype option on import or set low_memory=False.\n",
      "  trial_data = pd.concat([pd.read_csv(file) for file in trial_files], ignore_index=True)\n",
      "C:\\Users\\daksh\\AppData\\Local\\Temp\\ipykernel_17548\\2464687420.py:21: DtypeWarning: Columns (197,204,206,210,212,213,214,216,217,224,225,226,227) have mixed types. Specify dtype option on import or set low_memory=False.\n",
      "  trial_data = pd.concat([pd.read_csv(file) for file in trial_files], ignore_index=True)\n",
      "C:\\Users\\daksh\\AppData\\Local\\Temp\\ipykernel_17548\\2464687420.py:21: DtypeWarning: Columns (197,200,208,209,210,213,214,216,217,225,226,227) have mixed types. Specify dtype option on import or set low_memory=False.\n",
      "  trial_data = pd.concat([pd.read_csv(file) for file in trial_files], ignore_index=True)\n",
      "C:\\Users\\daksh\\AppData\\Local\\Temp\\ipykernel_17548\\2464687420.py:21: DtypeWarning: Columns (197,204,209,213) have mixed types. Specify dtype option on import or set low_memory=False.\n",
      "  trial_data = pd.concat([pd.read_csv(file) for file in trial_files], ignore_index=True)\n"
     ]
    },
    {
     "name": "stdout",
     "output_type": "stream",
     "text": [
      "✅ Saved: C:\\Users\\daksh\\OneDrive\\Desktop\\Vamsi\\Capstone Project\\Subject_Data/S4_ReachGraspEat_Synchronized.csv (Frames: 957)\n"
     ]
    },
    {
     "ename": "",
     "evalue": "",
     "output_type": "error",
     "traceback": [
      "\u001b[1;31mThe Kernel crashed while executing code in the current cell or a previous cell. \n",
      "\u001b[1;31mPlease review the code in the cell(s) to identify a possible cause of the failure. \n",
      "\u001b[1;31mClick <a href='https://aka.ms/vscodeJupyterKernelCrash'>here</a> for more info. \n",
      "\u001b[1;31mView Jupyter <a href='command:jupyter.viewOutput'>log</a> for further details."
     ]
    }
   ],
   "source": [
    "import os\n",
    "import pandas as pd\n",
    "from pathlib import Path\n",
    "\n",
    "BASE_DIR = r\"C:\\Users\\daksh\\OneDrive\\Desktop\\Vamsi\\Capstone Project\\Subject_Data\"\n",
    "SUBJECT_ID = \"S4\"\n",
    "\n",
    "activity_trials_dir = Path(BASE_DIR) / SUBJECT_ID / \"Activity_Trials\"\n",
    "frames_data_dir = Path(BASE_DIR) / SUBJECT_ID / \"S4_FramesData_Orig\"\n",
    "\n",
    "actions = list(set([f.name.split(\"_\")[1] for f in activity_trials_dir.glob(f\"{SUBJECT_ID}_*_Trial*.csv\")]))\n",
    "\n",
    "\n",
    "def synchronize_action(action_name):\n",
    "    \"\"\"Synchronizes MoCap data with unique timestamps from frames data.\"\"\"\n",
    "\n",
    "    # Here I am loading all of the trials data for a single action (present in the Activity trials folder)\n",
    "    trial_files = sorted(activity_trials_dir.glob(f\"{SUBJECT_ID}_{action_name}_Trial*.csv\"))\n",
    "    trial_data = pd.concat([pd.read_csv(file) for file in trial_files], ignore_index=True)\n",
    "\n",
    "    # Converting 'Time' column in trial data to milliseconds\n",
    "    if \"Time\" not in trial_data.columns:\n",
    "        raise KeyError(f\"No 'Time' column found in {action_name} trial data!\")\n",
    "\n",
    "    trial_data.rename(columns={\"Time\": \"Timestamp\"}, inplace=True)\n",
    "    trial_data[\"Timestamp\"] = (trial_data[\"Timestamp\"] * 1000).astype(int)  # Convert to milliseconds\n",
    "\n",
    "    # Here I am loading the Frames Data corresponding to each action\n",
    "    frames_subdir = frames_data_dir / f\"{SUBJECT_ID}_{action_name}_FD_Orig\"\n",
    "    if not frames_subdir.exists():\n",
    "        raise FileNotFoundError(f\"Frames data folder missing: {frames_subdir}\")\n",
    "\n",
    "    frames_files = sorted(frames_subdir.glob(f\"{SUBJECT_ID}_{action_name}_Orig_*.csv\"))\n",
    "\n",
    "    if not frames_files:\n",
    "        raise FileNotFoundError(f\"No frames data files found for {action_name} in {frames_subdir}\")\n",
    "\n",
    "    frames_data = pd.concat([pd.read_csv(file) for file in frames_files], ignore_index=True)\n",
    "\n",
    "    # Rename 'TimeStamp' column in frames data to 'Timestamp'\n",
    "    if \"TimeStamp\" not in frames_data.columns:\n",
    "        raise KeyError(f\"No 'TimeStamp' column found in {action_name} frames data!\")\n",
    "\n",
    "    frames_data.rename(columns={\"TimeStamp\": \"Timestamp\"}, inplace=True)\n",
    "\n",
    "    # Convert timestamps to integer format\n",
    "    frames_data[\"Timestamp\"] = frames_data[\"Timestamp\"].astype(int)\n",
    "\n",
    "    # ---- Step 3: Keep only unique timestamps in frames data ----\n",
    "    frames_data = frames_data.drop_duplicates(subset=[\"Timestamp\"])  # Keep only one entry per timestamp\n",
    "\n",
    "    # ---- Step 4: Keep only trial data that matches frames timestamps ----\n",
    "    trial_data = trial_data[trial_data[\"Timestamp\"].isin(frames_data[\"Timestamp\"])]\n",
    "\n",
    "    # ---- Step 5: Merge the two datasets ----\n",
    "    synchronized_data = pd.merge(trial_data, frames_data, on=\"Timestamp\", how=\"inner\")\n",
    "\n",
    "    # ---- Step 6: Save the synchronized data ----\n",
    "    output_file = BASE_DIR + f\"/{SUBJECT_ID}_{action_name}_Synchronized.csv\"\n",
    "    synchronized_data.to_csv(output_file, index=False)\n",
    "    print(f\"✅ Saved: {output_file} (Frames: {len(synchronized_data)})\")\n",
    "\n",
    "\n",
    "# Run synchronization for all actions\n",
    "for action in actions:\n",
    "    print(f\"\\n🔄 Processing action: {action}\")\n",
    "    synchronize_action(action)\n"
   ]
  }
 ],
 "metadata": {
  "kernelspec": {
   "display_name": ".venv",
   "language": "python",
   "name": "python3"
  },
  "language_info": {
   "codemirror_mode": {
    "name": "ipython",
    "version": 3
   },
   "file_extension": ".py",
   "mimetype": "text/x-python",
   "name": "python",
   "nbconvert_exporter": "python",
   "pygments_lexer": "ipython3",
   "version": "3.12.6"
  }
 },
 "nbformat": 4,
 "nbformat_minor": 2
}
